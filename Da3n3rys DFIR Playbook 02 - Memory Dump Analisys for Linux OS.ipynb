{
 "cells": [
  {
   "cell_type": "markdown",
   "metadata": {},
   "source": [
    "# Da3n3rys DFIR Playbook 02 - Memory Dump Analisys for Linux OS\n",
    "\n",
    "This playbook executes Volatility and other tools in order to extract the most common and useful information from a memory image. \n",
    "\n",
    "<a id='table_of_contents'></a>\n",
    "### Table of contents\n",
    "\n",
    "- [1. Image Identification](#image_identification)\n",
    "- [2. Console History](#console_history)\n",
    "- [3. Users Credentials](#users_credentials)\n",
    "- [4. Browser History](#browser_history)\n",
    "- [5. Process & Services Information](#process_information)\n",
    "- [6. Files Information](#files_information)\n",
    "- [7. Network Information](#network_information)\n",
    "- [8. Logs Extraction](#logs_extraction)\n",
    "- [9. Malicious Code Investigation](#malicious_code)\n",
    "- [10. Advanced Investigation - Extracting Files](#advanced_extract_files)\n",
    "- [11. Advanced Investigation - Searching Strings](#advanced_search_strings)\n",
    "- [12. IOCs List](#iocs_list)\n",
    "\n",
    "### Prerequisites\n",
    "\n",
    "Please, in order to execute this playbook, complete or modify these information in the following section:\n",
    "    \n",
    "    base_path: Full path of the DFIR Playbooks.\n",
    "    case_path: Full path for the incident case. This folder will host all the reports extracted from the analysis.\n",
    "    dump_path: Full path for the extracted files from the case.\n",
    "    filename: Name of the file to be analyzed. Place the file in the case_path.\n",
    "\n",
    "And also, install the following dependencies:\n",
    "\n",
    "    md5sum\n",
    "    yarascan\n",
    "    TBD"
   ]
  },
  {
   "cell_type": "code",
   "execution_count": null,
   "metadata": {},
   "outputs": [],
   "source": [
    "base_path=\"/home/Notebooks\"\n",
    "case_path=\"/home/Notebooks/evidences/case1\"\n",
    "dump_path=\"/home/Notebooks/evidences/case1/dump_folder\"\n",
    "plugins_path=\"/home/Notebooks/tools/volatility/contrib/plugins\"\n",
    "css_file=\"/home/Notebooks/css/custom.css\"\n",
    "filename=\"LinuxDump.mem\"\n",
    "\n",
    "from IPython.display import display, HTML, Image\n",
    "\n",
    "#HTML(open(css_file, \"r\").read())"
   ]
  },
  {
   "cell_type": "markdown",
   "metadata": {},
   "source": [
    "<a id='image_identification'></a>\n",
    "### 1. Image Identification\n",
    "[Top](#table_of_contents)"
   ]
  },
  {
   "cell_type": "markdown",
   "metadata": {},
   "source": [
    "<b>md5 image hash</b>"
   ]
  },
  {
   "cell_type": "code",
   "execution_count": null,
   "metadata": {},
   "outputs": [],
   "source": [
    "md5=!md5sum $case_path/$filename\n",
    "print(md5)"
   ]
  },
  {
   "cell_type": "markdown",
   "metadata": {},
   "source": [
    "<b>Linux profile manual identification:</b>"
   ]
  },
  {
   "cell_type": "code",
   "execution_count": null,
   "metadata": {
    "scrolled": false
   },
   "outputs": [],
   "source": [
    "linux_version=!egrep -ai \"linux version \" $case_path/$filename | grep -ai \"86\\|64\"\n",
    "\n",
    "print(\"Linux version from the image:\")\n",
    "print(linux_version[0:][0])\n",
    "print()\n",
    "\n",
    "profiles_list=!python $base_path/tools/volatility/vol.py --info | grep \"Profile for Linux\"\n",
    "\n",
    "print(\"Available profiles:\")\n",
    "for profile in profiles_list[1:]:\n",
    "    print(profile)\n",
    "\n",
    "#Uncomment and change the profile value\n",
    "#profile=\"LinuxUbuntu16042x64\"\n",
    "    \n",
    "print(\"Profile selected for this analysis: \", profile)"
   ]
  },
  {
   "cell_type": "markdown",
   "metadata": {},
   "source": [
    "<b>linux_banner:</b> Prints the Linux banner information."
   ]
  },
  {
   "cell_type": "code",
   "execution_count": null,
   "metadata": {
    "scrolled": true
   },
   "outputs": [],
   "source": [
    "!python $base_path/tools/volatility/vol.py -f $case_path/$filename --profile=$profile linux_banner"
   ]
  },
  {
   "cell_type": "markdown",
   "metadata": {},
   "source": [
    "<a id='console_history'></a>\n",
    "### 2. Console History\n",
    "[Top](#table_of_contents)"
   ]
  },
  {
   "cell_type": "markdown",
   "metadata": {},
   "source": [
    "<b>linux_bash:</b> Recover bash history from bash process memory."
   ]
  },
  {
   "cell_type": "code",
   "execution_count": null,
   "metadata": {
    "scrolled": true
   },
   "outputs": [],
   "source": [
    "!python $base_path/tools/volatility/vol.py -f $case_path/$filename --profile=$profile linux_bash"
   ]
  },
  {
   "cell_type": "markdown",
   "metadata": {},
   "source": [
    "<b>linux_bash_hash:</b> Recover bash hash table from bash process memory."
   ]
  },
  {
   "cell_type": "code",
   "execution_count": null,
   "metadata": {
    "scrolled": true
   },
   "outputs": [],
   "source": [
    "!python $base_path/tools/volatility/vol.py -f $case_path/$filename --profile=$profile linux_bash_hash"
   ]
  },
  {
   "cell_type": "markdown",
   "metadata": {},
   "source": [
    "<b>linux_bash_env:</b> Recover a process' dynamic environment variables."
   ]
  },
  {
   "cell_type": "code",
   "execution_count": null,
   "metadata": {
    "scrolled": true
   },
   "outputs": [],
   "source": [
    "!python $base_path/tools/volatility/vol.py -f $case_path/$filename --profile=$profile linux_bash_env"
   ]
  },
  {
   "cell_type": "markdown",
   "metadata": {},
   "source": [
    "<a id='users_credentials'></a>\n",
    "### 3. Users credentials\n",
    "[Top](#table_of_contents)"
   ]
  },
  {
   "cell_type": "markdown",
   "metadata": {},
   "source": [
    "<b>linux_check_creds:</b> Checks if any processes are sharing credential structures."
   ]
  },
  {
   "cell_type": "code",
   "execution_count": null,
   "metadata": {
    "scrolled": true
   },
   "outputs": [],
   "source": [
    "!python $base_path/tools/volatility/vol.py -f $case_path/$filename --profile=$profile linux_check_creds"
   ]
  },
  {
   "cell_type": "markdown",
   "metadata": {},
   "source": [
    "<b>linux_truecrypt_passphrase:</b> Recovers cached Truecrypt passphrases."
   ]
  },
  {
   "cell_type": "code",
   "execution_count": null,
   "metadata": {},
   "outputs": [],
   "source": [
    "!python $base_path/tools/volatility/vol.py -f $case_path/$filename --profile=$profile linux_truecrypt_passphrase"
   ]
  },
  {
   "cell_type": "markdown",
   "metadata": {},
   "source": [
    "<a id='browser_history'></a>\n",
    "### 4.  Browser History\n",
    "[Top](#table_of_contents)"
   ]
  },
  {
   "cell_type": "markdown",
   "metadata": {},
   "source": [
    "<b>firefoxhistory:</b> firefoxhistory, firefoxcookies, and firefoxdownloads plugins to extract the following firefox history data: moz_places, moz_cookies, and moz_downloads."
   ]
  },
  {
   "cell_type": "code",
   "execution_count": null,
   "metadata": {},
   "outputs": [],
   "source": [
    "!python $base_path/tools/volatility/vol.py --plugins=$plugins_path/DaveLasalle -f $case_path/$filename --profile=$profile firefoxhistory"
   ]
  },
  {
   "cell_type": "markdown",
   "metadata": {},
   "source": [
    "<b>firefoxcookies:</b>"
   ]
  },
  {
   "cell_type": "code",
   "execution_count": null,
   "metadata": {},
   "outputs": [],
   "source": [
    "!python $base_path/tools/volatility/vol.py --plugins=$plugins_path/DaveLasalle -f $case_path/$filename --profile=$profile firefoxcookies"
   ]
  },
  {
   "cell_type": "markdown",
   "metadata": {},
   "source": [
    "<b>firefoxdownloads:</b>"
   ]
  },
  {
   "cell_type": "code",
   "execution_count": null,
   "metadata": {},
   "outputs": [],
   "source": [
    "!python $base_path/tools/volatility/vol.py --plugins=$plugins_path/DaveLasalle -f $case_path/$filename --profile=$profile firefoxdownloads"
   ]
  },
  {
   "cell_type": "markdown",
   "metadata": {},
   "source": [
    "<b>chromehistory:</b>"
   ]
  },
  {
   "cell_type": "code",
   "execution_count": null,
   "metadata": {},
   "outputs": [],
   "source": [
    "!python $base_path/tools/volatility/vol.py --plugins=$plugins_path/DaveLasalle -f $case_path/$filename --profile=$profile chromehistory"
   ]
  },
  {
   "cell_type": "markdown",
   "metadata": {},
   "source": [
    "<b>chromevisits:</b>"
   ]
  },
  {
   "cell_type": "code",
   "execution_count": null,
   "metadata": {},
   "outputs": [],
   "source": [
    "!python $base_path/tools/volatility/vol.py --plugins=$plugins_path/DaveLasalle -f $case_path/$filename --profile=$profile chromevisits"
   ]
  },
  {
   "cell_type": "markdown",
   "metadata": {},
   "source": [
    "<b>chromesearchterms:</b>"
   ]
  },
  {
   "cell_type": "code",
   "execution_count": null,
   "metadata": {},
   "outputs": [],
   "source": [
    "!python $base_path/tools/volatility/vol.py --plugins=$plugins_path/DaveLasalle -f $case_path/$filename --profile=$profile  chromesearchterms"
   ]
  },
  {
   "cell_type": "markdown",
   "metadata": {},
   "source": [
    "<b>chromedownloads:</b>"
   ]
  },
  {
   "cell_type": "code",
   "execution_count": null,
   "metadata": {},
   "outputs": [],
   "source": [
    "!python $base_path/tools/volatility/vol.py --plugins=$plugins_path/DaveLasalle -f $case_path/$filename --profile=$profile chromedownloads"
   ]
  },
  {
   "cell_type": "markdown",
   "metadata": {},
   "source": [
    "<b>chromedownloadchains:</b>"
   ]
  },
  {
   "cell_type": "code",
   "execution_count": null,
   "metadata": {},
   "outputs": [],
   "source": [
    "!python $base_path/tools/volatility/vol.py --plugins=$plugins_path/DaveLasalle -f $case_path/$filename --profile=$profile chromedownloadchains"
   ]
  },
  {
   "cell_type": "markdown",
   "metadata": {},
   "source": [
    "<b>chromecookies:</b>"
   ]
  },
  {
   "cell_type": "code",
   "execution_count": null,
   "metadata": {},
   "outputs": [],
   "source": [
    "!python $base_path/tools/volatility/vol.py --plugins=$plugins_path/DaveLasalle -f $case_path/$filename --profile=$profile chromecookies"
   ]
  },
  {
   "cell_type": "markdown",
   "metadata": {},
   "source": [
    "<a id='process_information'></a>\n",
    "### 5.  Process & Services Information\n",
    "[Top](#table_of_contents)"
   ]
  },
  {
   "cell_type": "markdown",
   "metadata": {},
   "source": [
    "<b>linux_psaux:</b>"
   ]
  },
  {
   "cell_type": "code",
   "execution_count": null,
   "metadata": {},
   "outputs": [],
   "source": [
    "!python $base_path/tools/volatility/vol.py -f $case_path/$filename --profile=$profile linux_psaux"
   ]
  },
  {
   "cell_type": "markdown",
   "metadata": {},
   "source": [
    "<b>linux_pslist:</b>"
   ]
  },
  {
   "cell_type": "code",
   "execution_count": null,
   "metadata": {},
   "outputs": [],
   "source": [
    "!python $base_path/tools/volatility/vol.py -f $case_path/$filename --profile=$profile linux_pslist"
   ]
  },
  {
   "cell_type": "code",
   "execution_count": null,
   "metadata": {},
   "outputs": [],
   "source": [
    "!python $base_path/tools/volatility/vol.py -f $case_path/$filename --profile=$profile linux_pslist_cache"
   ]
  },
  {
   "cell_type": "markdown",
   "metadata": {},
   "source": [
    "<b>linux_proc_maps:</b>"
   ]
  },
  {
   "cell_type": "code",
   "execution_count": null,
   "metadata": {},
   "outputs": [],
   "source": [
    "!python $base_path/tools/volatility/vol.py -f $case_path/$filename --profile=$profile linux_proc_maps"
   ]
  },
  {
   "cell_type": "markdown",
   "metadata": {},
   "source": [
    "<b>linux_psview:</b>"
   ]
  },
  {
   "cell_type": "code",
   "execution_count": null,
   "metadata": {},
   "outputs": [],
   "source": [
    "!python $base_path/tools/volatility/vol.py -f $case_path/$filename --profile=$profile linux_psxview"
   ]
  },
  {
   "cell_type": "markdown",
   "metadata": {},
   "source": [
    "<b>linux_getcwd:</b>"
   ]
  },
  {
   "cell_type": "code",
   "execution_count": null,
   "metadata": {},
   "outputs": [],
   "source": [
    "!python $base_path/tools/volatility/vol.py -f $case_path/$filename --profile=$profile linux_getcwd  "
   ]
  },
  {
   "cell_type": "markdown",
   "metadata": {},
   "source": [
    "<b>linux_lsof:</b>"
   ]
  },
  {
   "cell_type": "code",
   "execution_count": null,
   "metadata": {},
   "outputs": [],
   "source": [
    "!python $base_path/tools/volatility/vol.py -f $case_path/$filename --profile=$profile linux_lsof"
   ]
  },
  {
   "cell_type": "markdown",
   "metadata": {},
   "source": [
    "<b>linux_pidhashtable:</b>"
   ]
  },
  {
   "cell_type": "code",
   "execution_count": null,
   "metadata": {},
   "outputs": [],
   "source": [
    "!python $base_path/tools/volatility/vol.py -f $case_path/$filename --profile=$profile linux_pidhashtable "
   ]
  },
  {
   "cell_type": "markdown",
   "metadata": {},
   "source": [
    "<a id='files_information'></a>\n",
    "### 6. Files Information\n",
    "[Top](#table_of_contents)"
   ]
  },
  {
   "cell_type": "markdown",
   "metadata": {},
   "source": [
    "<b>linux_mount:</b>"
   ]
  },
  {
   "cell_type": "code",
   "execution_count": null,
   "metadata": {},
   "outputs": [],
   "source": [
    "!python $base_path/tools/volatility/vol.py -f $case_path/$filename --profile=$profile linux_mount"
   ]
  },
  {
   "cell_type": "markdown",
   "metadata": {},
   "source": [
    "<b>linux_mount_cache:</b>"
   ]
  },
  {
   "cell_type": "code",
   "execution_count": null,
   "metadata": {},
   "outputs": [],
   "source": [
    "!python $base_path/tools/volatility/vol.py -f $case_path/$filename --profile=$profile linux_mount_cache"
   ]
  },
  {
   "cell_type": "markdown",
   "metadata": {},
   "source": [
    "<b>linux_enumerate_files:</b>"
   ]
  },
  {
   "cell_type": "code",
   "execution_count": null,
   "metadata": {},
   "outputs": [],
   "source": [
    "!python $base_path/tools/volatility/vol.py -f $case_path/$filename --profile=$profile linux_enumerate_files "
   ]
  },
  {
   "cell_type": "code",
   "execution_count": null,
   "metadata": {},
   "outputs": [],
   "source": [
    "!python $base_path/tools/volatility/vol.py -f $case_path/$filename --profile=$profile linux_find_file -L"
   ]
  },
  {
   "cell_type": "markdown",
   "metadata": {},
   "source": [
    "<b>linux_dentry_cache:</b>"
   ]
  },
  {
   "cell_type": "code",
   "execution_count": null,
   "metadata": {},
   "outputs": [],
   "source": [
    "!python $base_path/tools/volatility/vol.py -f $case_path/$filename --profile=$profile linux_dentry_cache"
   ]
  },
  {
   "cell_type": "markdown",
   "metadata": {},
   "source": [
    "<b>linux_tmpfs:</b>"
   ]
  },
  {
   "cell_type": "code",
   "execution_count": null,
   "metadata": {},
   "outputs": [],
   "source": [
    "!python $base_path/tools/volatility/vol.py -f $case_path/$filename --profile=$profile linux_tmpfs"
   ]
  },
  {
   "cell_type": "markdown",
   "metadata": {},
   "source": [
    "<a id='network_information'></a>\n",
    "### 7. Network Information\n",
    "[Top](#table_of_contents)"
   ]
  },
  {
   "cell_type": "markdown",
   "metadata": {},
   "source": [
    "<b>linux_ifconfig:</b>"
   ]
  },
  {
   "cell_type": "code",
   "execution_count": null,
   "metadata": {},
   "outputs": [],
   "source": [
    "!python $base_path/tools/volatility/vol.py -f $case_path/$filename --profile=$profile linux_ifconfig"
   ]
  },
  {
   "cell_type": "markdown",
   "metadata": {},
   "source": [
    "<b>linux_route_cache:</b>"
   ]
  },
  {
   "cell_type": "code",
   "execution_count": null,
   "metadata": {},
   "outputs": [],
   "source": [
    "!python $base_path/tools/volatility/vol.py -f $case_path/$filename --profile=$profile linux_route_cache"
   ]
  },
  {
   "cell_type": "markdown",
   "metadata": {},
   "source": [
    "<b>linux_netstat:</b>"
   ]
  },
  {
   "cell_type": "code",
   "execution_count": null,
   "metadata": {},
   "outputs": [],
   "source": [
    "!python $base_path/tools/volatility/vol.py -f $case_path/$filename --profile=$profile linux_netstat"
   ]
  },
  {
   "cell_type": "markdown",
   "metadata": {},
   "source": [
    "<b>linux_netfilter:</b>"
   ]
  },
  {
   "cell_type": "code",
   "execution_count": null,
   "metadata": {},
   "outputs": [],
   "source": [
    "!python $base_path/tools/volatility/vol.py -f $case_path/$filename --profile=$profile linux_netfilter"
   ]
  },
  {
   "cell_type": "markdown",
   "metadata": {},
   "source": [
    "<b>linux_arp:</b>"
   ]
  },
  {
   "cell_type": "code",
   "execution_count": null,
   "metadata": {},
   "outputs": [],
   "source": [
    "!python $base_path/tools/volatility/vol.py -f $case_path/$filename --profile=$profile linux_arp "
   ]
  },
  {
   "cell_type": "markdown",
   "metadata": {},
   "source": [
    "<b>linux_list_raw:</b>"
   ]
  },
  {
   "cell_type": "code",
   "execution_count": null,
   "metadata": {},
   "outputs": [],
   "source": [
    "!python $base_path/tools/volatility/vol.py -f $case_path/$filename --profile=$profile linux_list_raw"
   ]
  },
  {
   "cell_type": "markdown",
   "metadata": {},
   "source": [
    "<b>linux_sk_buff_cache:</b>"
   ]
  },
  {
   "cell_type": "code",
   "execution_count": null,
   "metadata": {},
   "outputs": [],
   "source": [
    "!python $base_path/tools/volatility/vol.py -f $case_path/$filename --profile=$profile linux_sk_buff_cache "
   ]
  },
  {
   "cell_type": "markdown",
   "metadata": {},
   "source": [
    "<a id='logs_extraction'></a>\n",
    "### 8. Logs Extraction\n",
    "[Top](#table_of_contents)"
   ]
  },
  {
   "cell_type": "markdown",
   "metadata": {},
   "source": [
    "<b>linux_dmesg:</b>"
   ]
  },
  {
   "cell_type": "code",
   "execution_count": null,
   "metadata": {},
   "outputs": [],
   "source": [
    "!python $base_path/tools/volatility/vol.py -f $case_path/$filename --profile=$profile linux_dmesg "
   ]
  },
  {
   "cell_type": "markdown",
   "metadata": {},
   "source": [
    "<a id='malicious_code'></a>\n",
    "### 9. Malicious Code Investigation\n",
    "[Top](#table_of_contents)"
   ]
  },
  {
   "cell_type": "markdown",
   "metadata": {},
   "source": [
    "<b>linux_malfind:</b>"
   ]
  },
  {
   "cell_type": "code",
   "execution_count": null,
   "metadata": {},
   "outputs": [],
   "source": [
    "!python $base_path/tools/volatility/vol.py -f $case_path/$filename --profile=$profile linux_malfind"
   ]
  },
  {
   "cell_type": "markdown",
   "metadata": {},
   "source": [
    "<b>linux_yarascan:</b>"
   ]
  },
  {
   "cell_type": "code",
   "execution_count": null,
   "metadata": {},
   "outputs": [],
   "source": [
    "!python $base_path/tools/volatility/vol.py -f $case_path/$filename --profile=$profile linux_yarascan"
   ]
  },
  {
   "cell_type": "markdown",
   "metadata": {},
   "source": [
    "<b>linux_apihooks:</b>"
   ]
  },
  {
   "cell_type": "code",
   "execution_count": null,
   "metadata": {},
   "outputs": [],
   "source": [
    "#!python $base_path/tools/volatility/vol.py -f $case_path/$filename --profile=\"LinuxDebian5010x86\" linux_apihooks"
   ]
  },
  {
   "cell_type": "markdown",
   "metadata": {},
   "source": [
    "<b>linux_kernel_opened_files:</b>"
   ]
  },
  {
   "cell_type": "code",
   "execution_count": null,
   "metadata": {},
   "outputs": [],
   "source": [
    "!python $base_path/tools/volatility/vol.py -f $case_path/$filename --profile=$profile linux_kernel_opened_files"
   ]
  },
  {
   "cell_type": "markdown",
   "metadata": {},
   "source": [
    "<b>linux_check_syscall:</b>"
   ]
  },
  {
   "cell_type": "code",
   "execution_count": null,
   "metadata": {},
   "outputs": [],
   "source": [
    "!python $base_path/tools/volatility/vol.py -f $case_path/$filename --profile=$profile linux_check_syscall"
   ]
  },
  {
   "cell_type": "markdown",
   "metadata": {},
   "source": [
    "<b>linux_check_syscall_arm:</b>"
   ]
  },
  {
   "cell_type": "code",
   "execution_count": null,
   "metadata": {},
   "outputs": [],
   "source": [
    "!python $base_path/tools/volatility/vol.py -f $case_path/$filename --profile=$profile linux_check_syscall_arm"
   ]
  },
  {
   "cell_type": "markdown",
   "metadata": {},
   "source": [
    "<b>linux_hidden_modules:</b>"
   ]
  },
  {
   "cell_type": "code",
   "execution_count": null,
   "metadata": {},
   "outputs": [],
   "source": [
    "!python $base_path/tools/volatility/vol.py -f $case_path/$filename --profile=$profile linux_hidden_modules"
   ]
  },
  {
   "cell_type": "markdown",
   "metadata": {},
   "source": [
    "linux_moddump -b 0xf80b12f8 -D ."
   ]
  },
  {
   "cell_type": "code",
   "execution_count": null,
   "metadata": {},
   "outputs": [],
   "source": [
    "!python $base_path/tools/volatility/vol.py -f $case_path/$filename --profile=$profile linux_check_fop  "
   ]
  },
  {
   "cell_type": "markdown",
   "metadata": {},
   "source": [
    "<a id='advanced_extract_files'></a>\n",
    "### 10. Advanced Investigation - Extracting Files\n",
    "[Top](#table_of_contents)"
   ]
  },
  {
   "cell_type": "markdown",
   "metadata": {},
   "source": [
    "<b>linux_elfs:</b>"
   ]
  },
  {
   "cell_type": "code",
   "execution_count": null,
   "metadata": {},
   "outputs": [],
   "source": [
    "!python $base_path/tools/volatility/vol.py -f $case_path/$filename --profile=$profile linux_elfs"
   ]
  },
  {
   "cell_type": "markdown",
   "metadata": {},
   "source": [
    "<b>linux_procdump:</b>"
   ]
  },
  {
   "cell_type": "code",
   "execution_count": null,
   "metadata": {},
   "outputs": [],
   "source": [
    "!python $base_path/tools/volatility/vol.py -f $case_path/$filename --profile=$profile --dump-dir=$dump_path linux_procdump"
   ]
  },
  {
   "cell_type": "markdown",
   "metadata": {},
   "source": [
    "<b>linux_find_file sample:</b>"
   ]
  },
  {
   "cell_type": "code",
   "execution_count": null,
   "metadata": {},
   "outputs": [],
   "source": [
    "!python $base_path/tools/volatility/vol.py -f $case_path/$filename --profile=\"LinuxDebian5010x86\" linux_find_file -F /etc/passwd"
   ]
  },
  {
   "cell_type": "code",
   "execution_count": null,
   "metadata": {},
   "outputs": [],
   "source": [
    "!python $base_path/tools/volatility/vol.py -f $case_path/$filename --profile=\"LinuxDebian5010x86\" linux_find_file -i 0xcf033e48 -O passwd\n",
    "!cat passwd"
   ]
  },
  {
   "cell_type": "markdown",
   "metadata": {},
   "source": [
    "<a id='advanced_search_strings'></a>\n",
    "### 11. Advanced Investigation - Searching Strings\n",
    "[Top](#table_of_contents)"
   ]
  },
  {
   "cell_type": "markdown",
   "metadata": {},
   "source": [
    "<b>Search strings:</b>"
   ]
  },
  {
   "cell_type": "code",
   "execution_count": null,
   "metadata": {},
   "outputs": [],
   "source": [
    "from ipywidgets import widgets\n",
    "from IPython.display import clear_output\n",
    "\n",
    "text = widgets.Text(description=\"Search:\", width=200)\n",
    "display(text)\n",
    "def handle_submit(sender):\n",
    "    test=!egrep -ai $text.value $case_path/$filename\n",
    "    clear_output()\n",
    "    display(text)\n",
    "    for line in test:\n",
    "        print(line)\n",
    "text.on_submit(handle_submit)"
   ]
  },
  {
   "cell_type": "markdown",
   "metadata": {},
   "source": [
    "<a id='iocs_list'></a>\n",
    "### 12. IOCs List\n",
    "[Top](#table_of_contents)"
   ]
  },
  {
   "cell_type": "markdown",
   "metadata": {},
   "source": [
    "Use this information with the rest of the notebooks in order to investigate it."
   ]
  },
  {
   "cell_type": "code",
   "execution_count": null,
   "metadata": {},
   "outputs": [],
   "source": [
    "print(\"IP list:\")\n",
    "print(ips_list)\n",
    "print(\"URL list:\")\n",
    "print(urls_list)\n",
    "print(\"Files folder:\")\n",
    "print(dump_path)\n",
    "print(\"MD5 hashes list:\")\n",
    "print(\"[TBD]\")\n",
    "pcaps_list=[]\n",
    "pcapfiles=!ls $dump_path | grep pcap\n",
    "print(\"Pcap files:\")\n",
    "for pcap in pcapfiles:\n",
    "    pcaps_list.append(dump_path+pcap)\n",
    "print(pcaps_list)"
   ]
  }
 ],
 "metadata": {
  "kernelspec": {
   "display_name": "Python 3",
   "language": "python",
   "name": "python3"
  },
  "language_info": {
   "codemirror_mode": {
    "name": "ipython",
    "version": 3
   },
   "file_extension": ".py",
   "mimetype": "text/x-python",
   "name": "python",
   "nbconvert_exporter": "python",
   "pygments_lexer": "ipython3",
   "version": "3.8.10"
  }
 },
 "nbformat": 4,
 "nbformat_minor": 2
}
