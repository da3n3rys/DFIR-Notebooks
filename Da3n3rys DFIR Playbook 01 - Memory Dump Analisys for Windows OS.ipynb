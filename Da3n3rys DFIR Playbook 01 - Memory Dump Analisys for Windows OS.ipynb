{
 "cells": [
  {
   "cell_type": "markdown",
   "metadata": {},
   "source": [
    "# Da3n3rys Playbook 01 - Memory Dump Analisys for Windows OS\n",
    "\n",
    "This playbook executes Volatility and other tools in order to extract the most common and useful information from a memory image. \n",
    "<a id='table_of_contents'></a>\n",
    "### Table of contents\n",
    "\n",
    "- [1. Image Identification](#image_identification)\n",
    "- [2. Users Information & Activity](#users_information)\n",
    "- [3. Registry Information](#registry_information)\n",
    "- [4. Console History](#console_history)\n",
    "- [5. Users Credentials](#users_credentials)\n",
    "- [6. Browser History](#browser_history)\n",
    "- [7. Process & Services Information](#process_information)\n",
    "- [8. Files Information](#files_information)\n",
    "- [9. Network Information](#network_information)\n",
    "- [10. Windows Event Logs Extraction](#windows_events)\n",
    "- [11. Malicious Code Investigation](#malicious_code)\n",
    "- [12. Advanced Investigation - Extracting Files](#advanced_extract_files)\n",
    "- [13. Advanced Investigation - Searching Strings](#advanced_search_strings)\n",
    "- [14. IOCs List](#iocs_list)\n",
    "\n",
    "### Prerequisites\n",
    "\n",
    "Please, in order to execute this playbook, complete or modify these information in the following section:\n",
    "    \n",
    "    base_path: Full path of the DFIR Playbooks.\n",
    "    case_path: Full path for the incident case. This folder will host all the reports extracted from the analysis.\n",
    "    dump_path: Full path for the extracted files from the case.\n",
    "    filename: Name of the file to be analyzed. Place the file in the case_path.\n",
    "\n",
    "And also, install the following dependencies:\n",
    "\n",
    "    yarascan\n",
    "    dot - sudo apt install graphviz\n",
    "\n",
    "This playbook also works with <b>hiberfil.sys</b> and <b>pagefile.sys</b> files and <b>.vmem</b>(Virtual Machine Memory) files. If you want to analyze these files, please, don't change it's names or extensions."
   ]
  },
  {
   "cell_type": "code",
   "execution_count": null,
   "metadata": {},
   "outputs": [],
   "source": [
    "base_path=\"/home/Notebooks\"\n",
    "case_path=\"/home/Notebooks/evidences/case2\"\n",
    "dump_path=\"/home/Notebooks\"\n",
    "plugins_path=\"/home/Notebooks/tools/volatility/contrib/plugins\"\n",
    "css_file=\"/home/Notebooks/css/custom.css\"\n",
    "filename=\"Virgo.dmp\"\n",
    "\n",
    "from IPython.display import display, HTML, Image\n",
    "\n",
    "#HTML(open(css_file, \"r\").read())"
   ]
  },
  {
   "cell_type": "markdown",
   "metadata": {},
   "source": [
    "<a id='image_identification'></a>\n",
    "### 1. Image Identification\n",
    "[Top](#table_of_contents)"
   ]
  },
  {
   "cell_type": "markdown",
   "metadata": {},
   "source": [
    "<b>md5 image hash</b>"
   ]
  },
  {
   "cell_type": "code",
   "execution_count": null,
   "metadata": {},
   "outputs": [],
   "source": [
    "md5=!md5sum $case_path/$filename\n",
    "print(md5)"
   ]
  },
  {
   "cell_type": "markdown",
   "metadata": {},
   "source": [
    "<b>imageinfo:</b> Identifies the operating system, service pack, and hardware architecture (32 or 64 bit), but it also contains other useful information such as the DTB address* and time the sample was collected.\n",
    "\n",
    "<b>WARNING: This module will select an image profile automatically, please, change manually the profile variable if you need to use another one.</b>\n",
    "\n",
    "*DTB (Directory Table Base) is what Volatility uses to translate virtual addresses to physical addresses. "
   ]
  },
  {
   "cell_type": "code",
   "execution_count": null,
   "metadata": {},
   "outputs": [],
   "source": [
    "imageinfo=!python $base_path/tools/volatility/vol.py -f $case_path/$filename imageinfo\n",
    "\n",
    "for row in imageinfo[2:]:\n",
    "    if \"Suggested\" in row:\n",
    "        print(row)\n",
    "        profile = row.split()[3].replace(',', '')\n",
    "       \n",
    "#Uncomment if needed\n",
    "profile=\"Win10x64_15063\"\n",
    "        \n",
    "print(\"Profile selected for this analysis: \", profile)"
   ]
  },
  {
   "cell_type": "markdown",
   "metadata": {},
   "source": [
    "<b>kdbgscan:</b> As opposed to imageinfo which simply provides profile suggestions, kdbgscan is designed to positively identify the correct profile and the correct KDBG address (if there happen to be multiple). This plugin scans for the KDBGHeader signatures linked to Volatility profiles and applies sanity checks to reduce false positives. \n",
    "\n",
    "If you find 0 processes and 0 modules in this output and another KDBG with more data, copy its Offset value here:\n",
    "\n",
    "kdgb=\"--kdbg=Offset (V)\""
   ]
  },
  {
   "cell_type": "code",
   "execution_count": null,
   "metadata": {
    "scrolled": true
   },
   "outputs": [],
   "source": [
    "kdgb=\"\"\n",
    "!python $base_path/tools/volatility/vol.py -f $case_path/$filename kdbgscan"
   ]
  },
  {
   "cell_type": "markdown",
   "metadata": {},
   "source": [
    "<b>hiberfil.sys:</b> Since the hibernation file is just a compressed copy of the memory, we can use Volatility the same way we would with any other memory sample. But, we will need to first decompress it by converting it to a raw memory dump. This too can be done using Volatility. \n",
    "\n",
    "Volatility will actually work with the hiberfil.sys file, but it is extremely slow because it will have to decompress it every time a different plugin is used. Just decompress it once using the imagecopy plugin and it will speed up the process."
   ]
  },
  {
   "cell_type": "code",
   "execution_count": null,
   "metadata": {},
   "outputs": [],
   "source": [
    "if \"hiberfil.sys\" in filename:\n",
    "    !python $base_path/tools/volatility/vol.py -f $case_path/$filename --profile=$profile imagecopy -O $case_path/rawimage.img\n",
    "    filename=\"rawimage.img\""
   ]
  },
  {
   "cell_type": "markdown",
   "metadata": {},
   "source": [
    "<b>pagefile.sys:</b> Microsoft Windows uses a paging file, called pagefile.sys, to store page-size blocks of memory that do not current fit into physical memory.\n",
    "This file, stored in %SystemDrive%\\pagefile.sys is a hidden system file and it can never be read or accessed by a user, including Administrator.\n",
    "\n",
    "It is possible to read this file by parsing the raw file system, or exact it using tools like FTKImager.\n",
    "Contrary to hybernation files, page files cannot be processed with Volatility: in fact the page file is just the “holes” in memory where blocks are stored to disk, it will often contain information that can be relevant to the case you are trying to solve.\n",
    "\n",
    "Because storage locations in the paging file are not necessarily sequential, it is unlikely to find consecutive pages there.\n",
    "Although it is possible to find data in chunks smaller than or equal to 4KB, its the largest an examiner can hope for.\n",
    "So, the most productive method for analyzing paging files is searching for strings."
   ]
  },
  {
   "cell_type": "code",
   "execution_count": null,
   "metadata": {},
   "outputs": [],
   "source": [
    "if \"pagefile.sys\" in filename:\n",
    "    print(\"List all paths in pagefile\")\n",
    "    !strings pagefile.sys | grep -i \"^[a-z]:\\\\\\\\\" | sort | uniq | less \n",
    "    print(\"Search for enviroment variables\")\n",
    "    !strings pagefile.sys | grep -i \"^[a-zA-Z09_]*=.*\" | sort -u | uniq | less\n",
    "    print(\"Search for URLs:\")\n",
    "    !strings pagefile.sys | egrep \"^https?://\" | sort | uniq | less\n",
    "    print(\"Search for email addresses:\")\n",
    "    !strings pagefile.sys | egrep '([[:alnum:]_.-]{1,64}+@[[:alnum:]_.-]{2,255}+?\\.[[:alpha:].]{2,4})' \n",
    "    print(\"Search malware using yararules\")\n",
    "    !yara malware_rules.yar pagefile.sys\n",
    "    #stops the notebook execution\n",
    "    %%javascript\n",
    "    Jupyter.notebook.session.delete();"
   ]
  },
  {
   "cell_type": "markdown",
   "metadata": {},
   "source": [
    "<b>.vmem:</b> Virtual Memory or VMEM is a file extension used by virtualization software like VMware, Virtualbox etc. VMEM files generally store RAM or Physical Memory of the related virtual machine."
   ]
  },
  {
   "cell_type": "code",
   "execution_count": null,
   "metadata": {},
   "outputs": [],
   "source": [
    "if \".vmem\" in filename:\n",
    "    !python $base_path/tools/volatility/vol.py -f $case_path/$filename imagecopy -O $case_path/rawimage.img --profile=$profile\n",
    "    filename=\"rawimage.img\""
   ]
  },
  {
   "cell_type": "markdown",
   "metadata": {},
   "source": [
    "<a id='users_information'></a>\n",
    "### 2. Users Information & Activity\n",
    "[Top](#table_of_contents)"
   ]
  },
  {
   "cell_type": "markdown",
   "metadata": {},
   "source": [
    "<b>clipboard:</b> Extract the contents of the windows clipboard."
   ]
  },
  {
   "cell_type": "code",
   "execution_count": null,
   "metadata": {},
   "outputs": [],
   "source": [
    "!python /home/mmatari/Notebooks/tools/volatility/vol.py -f $case_path/$filename --profile=$profile clipboard $kdgb"
   ]
  },
  {
   "cell_type": "markdown",
   "metadata": {},
   "source": [
    "<b>wndscan:</b> This command scans for tagWINDOWSTATION objects and prints details on the window station*, its global atom table, available clipboard formats, and processes or threads currently interacting with the clipboard.\n",
    "\n",
    "From a forensic standpoint, by analyzing window stations objects, you can detect applications snooping on clipboard activity along with the frequency of clipboard usage and the available data formats.\n",
    "\n",
    "If the <b>cNumClipFormats</b> and <b>iClipSerialNumber</b> are both 0, this means this window station’s clipboard has never been used.\n",
    "\n",
    "Windows station act as security boundaries for processes and desktops. If you're not already familiar with these objects, see Sessions, Desktops, and Window Stations (http://blogs.technet.com/b/askperf/archive/2007/07/24/sessions-desktops-and-windows-stations.aspx ) or Window Stations and Desktops (https://docs.microsoft.com/es-es/windows/win32/winstation/window-stations-and-desktops ).\n",
    "\n",
    "More information about Clipboard Snooping Malware here: https://volatility-labs.blogspot.com/2012/09/movp-12-window-stations-and-clipboard.html"
   ]
  },
  {
   "cell_type": "code",
   "execution_count": null,
   "metadata": {},
   "outputs": [],
   "source": [
    "!python /home/mmatari/Notebooks//tools/volatility/vol.py -f $case_path/$filename --profile=$profile wndscan $kdgb"
   ]
  },
  {
   "cell_type": "markdown",
   "metadata": {},
   "source": [
    "<b>deskscan:</b> This command subclasses the wndscan plugin and for each window station found, it walks the list of desktops. It can be used for the following purposes:\n",
    "\n",
    "   - Find rogue desktops used to hide applications from logged-on users.\n",
    "   - Detect desktops created by ransomware.\n",
    "   - Link threads to their desktops.\n",
    "   - Analyze the desktop heap for memory corruptions.\n",
    "   - Profile dekstop heap allocations to locate USER objects."
   ]
  },
  {
   "cell_type": "code",
   "execution_count": null,
   "metadata": {},
   "outputs": [],
   "source": [
    "!python $base_path/tools/volatility/vol.py -f $case_path/$filename --profile=$profile deskscan $kdgb"
   ]
  },
  {
   "cell_type": "markdown",
   "metadata": {},
   "source": [
    "<b>notepad:</b> List currently displayed notepad text."
   ]
  },
  {
   "cell_type": "code",
   "execution_count": null,
   "metadata": {},
   "outputs": [],
   "source": [
    "!python $base_path/tools/volatility/vol.py -f $case_path/$filename --profile=$profile notepad $kdgb"
   ]
  },
  {
   "cell_type": "markdown",
   "metadata": {},
   "source": [
    "<b>Recently clicked applications and shortcuts:</b>"
   ]
  },
  {
   "cell_type": "code",
   "execution_count": null,
   "metadata": {},
   "outputs": [],
   "source": [
    "!python $base_path/tools/volatility/vol.py -f $case_path/$filename --profile=$profile userassist $kdgb | grep REG_BINARY"
   ]
  },
  {
   "cell_type": "markdown",
   "metadata": {},
   "source": [
    "<b>Find prefetch files:</b> Recently executed programs."
   ]
  },
  {
   "cell_type": "code",
   "execution_count": null,
   "metadata": {
    "scrolled": false
   },
   "outputs": [],
   "source": [
    "!python $base_path/tools/volatility/vol.py -f $case_path/$filename --profile=$profile mftparser $kdgb | grep \\.pf$"
   ]
  },
  {
   "cell_type": "markdown",
   "metadata": {},
   "source": [
    "<b>sessions:</b> A plugin to report on active (and in some cases, terminated) logon sessions from Windows based memory dumps, including their associated processes, kernel modules, pool, and page tables. \n",
    "\n",
    "Here are some ways you might use this plugin:\n",
    "\n",
    "   - <b>Link processes to their logon sessions:</b> you see abc.exe running and you want to know if it was launched by someone over RDP or by the user physically sitting at the console. \n",
    "   - <b>Detect hidden processes:</b> each session structure contains a linked list of processes for that session. If malware unlinks a process from PsActiveProcessHead, you can leverage this alternate process listing as a means to identify the hidden process. \n",
    "   - <b>Determine kernel drivers:</b> each session structure contains a list of drivers mapped into the session. You can use this to distinguish RDP sessions from console or fast-user switching sessions and also for miscellaneous tasks like determining if the system is a VMware virtual machine. \n"
   ]
  },
  {
   "cell_type": "code",
   "execution_count": null,
   "metadata": {
    "scrolled": true
   },
   "outputs": [],
   "source": [
    "!python $base_path/tools/volatility/vol.py -f $case_path/$filename --profile=$profile sessions $kdgb"
   ]
  },
  {
   "cell_type": "markdown",
   "metadata": {},
   "source": [
    "<b>Timeline:</b>"
   ]
  },
  {
   "cell_type": "code",
   "execution_count": null,
   "metadata": {
    "scrolled": true
   },
   "outputs": [],
   "source": [
    "!python $base_path/tools/volatility/vol.py -f $case_path/$filename --profile=$profile timeliner $kdgb"
   ]
  },
  {
   "cell_type": "code",
   "execution_count": null,
   "metadata": {},
   "outputs": [],
   "source": [
    "!python $base_path/tools/autotimeliner/autotimeline.py -f $case_path/$filename -p $profile"
   ]
  },
  {
   "cell_type": "markdown",
   "metadata": {},
   "source": [
    "<b>Windows 10 Timeline Database:</b> Windows 10 provides a new database called Timeline that, if active, can give us information regarding the tasks performed by all the users in the OS.\n",
    "More information of this database, here:\n",
    "https://onlinelibrary.wiley.com/doi/epdf/10.1111/1556-4029.13875?author_access_token=inv4iYhlWdYKUupNglpSQ4ta6bR2k8jH0KrdpFOxC660wwTqHHaN9tPSRNIR_TQPUJ9J1SxuE3LbbtvVI3D6ZaR6V-IDZBOC-gZ1JXjKpSrvltqQD0WUyBOKDafXQka0XhDvuYd_TMuyUFNNSZy0lg%3D%3D&"
   ]
  },
  {
   "cell_type": "code",
   "execution_count": null,
   "metadata": {},
   "outputs": [],
   "source": [
    "#offset=\"\"\n",
    "#files=!python $base_path/tools/volatility/vol.py -f $case_path/$filename --profile=$profile --dump-dir=$dump_path dumpfiles \n",
    "#for file in files:\n",
    "#    if \"ActivitiesCache.db\" in file:\n",
    "#        file=file.split()\n",
    "#        offset=file[0]\n",
    "#        !python $base_path/tools/volatility/vol.py -f $case_path/$filename --profile=$profile --offset=$offset --dump-dir=$dump_path dumpfiles \n",
    "## download ActivitiesCache.db\n",
    "## parser https://tzworks.net/prototype_page.php?proto_id=41\n",
    "## pip install git+https://github.com/forensicmatt/ActivitiesCacheParser\n",
    "# python3 /usr/local/bin/winactivities2json.py -s $dump_path/ActivitiesCache.db -t $dump_path --debug ERROR -o \"{_user}: {StartTime} - {AppId[0][application]}\""
   ]
  },
  {
   "cell_type": "markdown",
   "metadata": {},
   "source": [
    "<a id='registry_information'></a>\n",
    "### 3. Registry Information\n",
    "[Top](#table_of_contents)"
   ]
  },
  {
   "cell_type": "markdown",
   "metadata": {},
   "source": [
    "<b>hivelist:</b> To locate the virtual addresses of registry hives in memory, and the full paths to the corresponding hive on disk. \n",
    "\n",
    "A hive is a logical group of keys, subkeys, and values in the registry that has a set of supporting files containing backups of its data. Each time a new user logs on to a computer, a new hive is created for that user with a separate file for the user profile. This is called the user profile hive."
   ]
  },
  {
   "cell_type": "code",
   "execution_count": null,
   "metadata": {},
   "outputs": [],
   "source": [
    "hive_list=!python $base_path/tools/volatility/vol.py -f $case_path/$filename --profile=$profile hivelist $kdgb\n",
    "for line in hive_list[0:3]:\n",
    "    print(line)\n",
    "for line in hive_list[3:]:\n",
    "    print(line)\n",
    "    line=line.split()\n",
    "    offset=line[1]\n",
    "    print(line[1])\n",
    "    #!python $base_path/tools/volatility/vol.py -f $case_path/$filename --profile=$profile hivedump --hive-offset $offset"
   ]
  },
  {
   "cell_type": "markdown",
   "metadata": {},
   "source": [
    "<b>shellbags:</b> This plugin parses and prints Shellbag* information obtained from the registry.\n",
    "\n",
    "*Shellbag: Built into Microsoft Windows is the ability for the operating system to track user window viewing preferences. These are settings specific to the default Windows shell, WindowsExplorer, such as folder window size, position on the screenand others. They allow consistent user experiences betweensessions"
   ]
  },
  {
   "cell_type": "code",
   "execution_count": null,
   "metadata": {},
   "outputs": [],
   "source": [
    "!python $base_path/tools/volatility/vol.py -f $case_path/$filename --profile=$profile shellbags $kdgb"
   ]
  },
  {
   "cell_type": "markdown",
   "metadata": {},
   "source": [
    "<b>shimcache:</b> Parses the Application Compatibility Shim Cache registry key. This artifact can provide a timeline of which program was executed and when it was first run and last modified"
   ]
  },
  {
   "cell_type": "code",
   "execution_count": null,
   "metadata": {},
   "outputs": [],
   "source": [
    "!python $base_path/tools/volatility/vol.py -f $case_path/$filename --profile=$profile shimcache $kdgb"
   ]
  },
  {
   "cell_type": "markdown",
   "metadata": {},
   "source": [
    "<a id='console_history'></a>\n",
    "### 4. Console History\n",
    "[Top](#table_of_contents)"
   ]
  },
  {
   "cell_type": "markdown",
   "metadata": {},
   "source": [
    "<b>consoles:</b> Extract command history by scanning for \\_CONSOLE\\_INFORMATION."
   ]
  },
  {
   "cell_type": "code",
   "execution_count": null,
   "metadata": {},
   "outputs": [],
   "source": [
    "!python /home/mmatari/Notebooks/tools/volatility/vol.py -f $case_path/$filename --profile=$profile consoles $kdgb"
   ]
  },
  {
   "cell_type": "markdown",
   "metadata": {},
   "source": [
    "<b>cmdscan:</b> Extract command history by scanning for \\_COMMAND\\_HISTORY."
   ]
  },
  {
   "cell_type": "code",
   "execution_count": null,
   "metadata": {},
   "outputs": [],
   "source": [
    "!python $base_path/tools/volatility/vol.py -f $case_path/$filename --profile=$profile cmdscan $kdgb"
   ]
  },
  {
   "cell_type": "markdown",
   "metadata": {},
   "source": [
    "<b>cmdline:</b> Display process command-line arguments."
   ]
  },
  {
   "cell_type": "code",
   "execution_count": null,
   "metadata": {
    "scrolled": false
   },
   "outputs": [],
   "source": [
    "!python $base_path/tools/volatility/vol.py -f $case_path/$filename --profile=$profile  cmdline $kdgb"
   ]
  },
  {
   "cell_type": "markdown",
   "metadata": {},
   "source": [
    "<b>Command line search bruteforcing:</b> \"/C:\\\\\\\\.+>/\""
   ]
  },
  {
   "cell_type": "code",
   "execution_count": null,
   "metadata": {
    "scrolled": false
   },
   "outputs": [],
   "source": [
    "!egrep -ai \"/C:\\/.+\\>\" $case_path/$filename"
   ]
  },
  {
   "cell_type": "markdown",
   "metadata": {},
   "source": [
    "<b>Command line search bruteforcing:</b>"
   ]
  },
  {
   "cell_type": "code",
   "execution_count": null,
   "metadata": {
    "scrolled": false
   },
   "outputs": [],
   "source": [
    "!egrep -ai \"kitty\" $case_path/$filename"
   ]
  },
  {
   "cell_type": "markdown",
   "metadata": {},
   "source": [
    "<a id='users_credentials'></a>\n",
    "### 5. Users credentials\n",
    "[Top](#table_of_contents)"
   ]
  },
  {
   "cell_type": "markdown",
   "metadata": {},
   "source": [
    "<b>hashdump:</b> Extracts and decrypts cached domain credentials stored in the registry."
   ]
  },
  {
   "cell_type": "code",
   "execution_count": null,
   "metadata": {},
   "outputs": [],
   "source": [
    "!python $base_path/tools/volatility/vol.py -f $case_path/$filename --profile=$profile hashdump $kdgb"
   ]
  },
  {
   "cell_type": "markdown",
   "metadata": {},
   "source": [
    "<b>cachedump:</b> Dumps cached domain hashes from memory."
   ]
  },
  {
   "cell_type": "code",
   "execution_count": null,
   "metadata": {},
   "outputs": [],
   "source": [
    "!python $base_path/tools/volatility/vol.py -f $case_path/$filename --profile=$profile cachedump $kdgb"
   ]
  },
  {
   "cell_type": "markdown",
   "metadata": {},
   "source": [
    "<b>lsadump:</b> To dump LSA secrets from the registry, use the lsadump command. This exposes information such as the default password (for systems with autologin enabled), the RDP public key, and credentials used by DPAPI."
   ]
  },
  {
   "cell_type": "code",
   "execution_count": null,
   "metadata": {},
   "outputs": [],
   "source": [
    "!python $base_path/tools/volatility/vol.py -f $case_path/$filename --profile=$profile lsadump $kdgb"
   ]
  },
  {
   "cell_type": "markdown",
   "metadata": {},
   "source": [
    "<b>mimikatz:</b>"
   ]
  },
  {
   "cell_type": "code",
   "execution_count": null,
   "metadata": {},
   "outputs": [],
   "source": [
    "!python $base_path/tools/volatility/vol.py --plugins=$plugins_path/mimikatz -f $case_path/$filename --profile=$profile mimikatz $kdgb"
   ]
  },
  {
   "cell_type": "markdown",
   "metadata": {},
   "source": [
    "<b>openvpn:</b> Extracts openvpn credentials."
   ]
  },
  {
   "cell_type": "code",
   "execution_count": null,
   "metadata": {},
   "outputs": [],
   "source": [
    "!python $base_path/tools/volatility/vol.py --plugins=$plugins_path/openvpn -f $case_path/$filename --profile=$profile openvpn $kdgb"
   ]
  },
  {
   "cell_type": "markdown",
   "metadata": {},
   "source": [
    "<a id='browser_history'></a>\n",
    "### 6. Browser History\n",
    "[Top](#table_of_contents)"
   ]
  },
  {
   "cell_type": "markdown",
   "metadata": {},
   "source": [
    "<b>iehistory:</b> Internet Explorer History."
   ]
  },
  {
   "cell_type": "code",
   "execution_count": null,
   "metadata": {
    "scrolled": false
   },
   "outputs": [],
   "source": [
    "!python $base_path/tools/volatility/vol.py -f $case_path/$filename --profile=$profile iehistory $kdgb"
   ]
  },
  {
   "cell_type": "markdown",
   "metadata": {},
   "source": [
    "<b>firefoxhistory:</b> firefoxhistory, firefoxcookies, and firefoxdownloads plugins to extract the following firefox history data: moz_places, moz_cookies, and moz_downloads."
   ]
  },
  {
   "cell_type": "code",
   "execution_count": null,
   "metadata": {},
   "outputs": [],
   "source": [
    "!python $base_path/tools/volatility/vol.py --plugins=$plugins_path/DaveLasalle -f $case_path/$filename --profile=$profile firefoxhistory $kdgb"
   ]
  },
  {
   "cell_type": "markdown",
   "metadata": {},
   "source": [
    "<b>firefoxcookies:</b>"
   ]
  },
  {
   "cell_type": "code",
   "execution_count": null,
   "metadata": {},
   "outputs": [],
   "source": [
    "!python $base_path/tools/volatility/vol.py --plugins=$plugins_path/DaveLasalle -f $case_path/$filename --profile=$profile firefoxcookies $kdgb"
   ]
  },
  {
   "cell_type": "markdown",
   "metadata": {},
   "source": [
    "<b>firefoxdownloads:</b>"
   ]
  },
  {
   "cell_type": "code",
   "execution_count": null,
   "metadata": {},
   "outputs": [],
   "source": [
    "!python $base_path/tools/volatility/vol.py --plugins=$plugins_path/DaveLasalle -f $case_path/$filename --profile=$profile firefoxdownloads $kdgb"
   ]
  },
  {
   "cell_type": "markdown",
   "metadata": {},
   "source": [
    "<b>chromehistory:</b>"
   ]
  },
  {
   "cell_type": "code",
   "execution_count": null,
   "metadata": {},
   "outputs": [],
   "source": [
    "!python $base_path/tools/volatility/vol.py --plugins=$plugins_path/DaveLasalle -f $case_path/$filename --profile=$profile chromehistory $kdgb"
   ]
  },
  {
   "cell_type": "markdown",
   "metadata": {},
   "source": [
    "<b>chromevisits:</b>"
   ]
  },
  {
   "cell_type": "code",
   "execution_count": null,
   "metadata": {},
   "outputs": [],
   "source": [
    "!python $base_path/tools/volatility/vol.py --plugins=$plugins_path/DaveLasalle -f $case_path/$filename --profile=$profile chromevisits $kdgb"
   ]
  },
  {
   "cell_type": "markdown",
   "metadata": {},
   "source": [
    "<b>chromesearchterms:</b>"
   ]
  },
  {
   "cell_type": "code",
   "execution_count": null,
   "metadata": {},
   "outputs": [],
   "source": [
    "!python $base_path/tools/volatility/vol.py --plugins=$plugins_path/DaveLasalle -f $case_path/$filename --profile=$profile  chromesearchterms $kdgb"
   ]
  },
  {
   "cell_type": "markdown",
   "metadata": {},
   "source": [
    "<b>chromedownloads:</b>"
   ]
  },
  {
   "cell_type": "code",
   "execution_count": null,
   "metadata": {},
   "outputs": [],
   "source": [
    "!python $base_path/tools/volatility/vol.py --plugins=$plugins_path/DaveLasalle -f $case_path/$filename --profile=$profile chromedownloads $kdgb "
   ]
  },
  {
   "cell_type": "markdown",
   "metadata": {},
   "source": [
    "<b>chromedownloadchains:</b>"
   ]
  },
  {
   "cell_type": "code",
   "execution_count": null,
   "metadata": {},
   "outputs": [],
   "source": [
    "!python $base_path/tools/volatility/vol.py --plugins=$plugins_path/DaveLasalle -f $case_path/$filename --profile=$profile chromedownloadchains $kdgb"
   ]
  },
  {
   "cell_type": "markdown",
   "metadata": {},
   "source": [
    "<b>chromecookies:</b>"
   ]
  },
  {
   "cell_type": "code",
   "execution_count": null,
   "metadata": {},
   "outputs": [],
   "source": [
    "!python $base_path/tools/volatility/vol.py --plugins=$plugins_path/DaveLasalle -f $case_path/$filename --profile=$profile chromecookies $kdgb"
   ]
  },
  {
   "cell_type": "markdown",
   "metadata": {},
   "source": [
    "<a id='process_information'></a>\n",
    "### 7. Process & Services Information\n",
    "[Top](#table_of_contents)"
   ]
  },
  {
   "cell_type": "markdown",
   "metadata": {},
   "source": [
    "<b>svcscan:</b> Scan for Windows services."
   ]
  },
  {
   "cell_type": "code",
   "execution_count": null,
   "metadata": {
    "scrolled": true
   },
   "outputs": [],
   "source": [
    "!python $base_path/tools/volatility/vol.py -f $case_path/$filename --profile=$profile svcscan $kdgb"
   ]
  },
  {
   "cell_type": "markdown",
   "metadata": {},
   "source": [
    "<b>getservicesids:</b> The getservicesids command calculates the SIDs for services on a machine and outputs them in Python dictionary format for future use. The service names are taken from the registry (\"SYSTEM\\CurrentControlSet\\Services\")."
   ]
  },
  {
   "cell_type": "code",
   "execution_count": null,
   "metadata": {
    "scrolled": true
   },
   "outputs": [],
   "source": [
    "!python $base_path/tools/volatility/vol.py -f $case_path/$filename --profile=$profile getservicesids $kdgb"
   ]
  },
  {
   "cell_type": "markdown",
   "metadata": {},
   "source": [
    "<b>getsids:</b>"
   ]
  },
  {
   "cell_type": "code",
   "execution_count": null,
   "metadata": {},
   "outputs": [],
   "source": [
    "!python $base_path/tools/volatility/vol.py -f $case_path/$filename --profile=$profile getsids $kdgb"
   ]
  },
  {
   "cell_type": "markdown",
   "metadata": {},
   "source": [
    "<b>psscan:</b> This can find processes that previously terminated (inactive) and processes that have been hidden or unlinked by a rootkit. The downside is that rootkits can still hide by overwriting the pool tag values (though not commonly seen in the wild)."
   ]
  },
  {
   "cell_type": "code",
   "execution_count": null,
   "metadata": {},
   "outputs": [],
   "source": [
    "from IPython.display import Image\n",
    "!python $base_path/tools/volatility/vol.py -f $case_path/$filename --profile=$profile psscan $kdgb\n",
    "!python $base_path/tools/volatility/vol.py -f $case_path/$filename --profile=$profile psscan --output=dot --output-file=$dump_path/psscan.dot $kdgb\n",
    "!dot -Tpng $dump_path/psscan.dot -o $dump_path/psscan.png\n",
    "Image(dump_path + \"/psscan.png\")"
   ]
  },
  {
   "cell_type": "markdown",
   "metadata": {},
   "source": [
    "<b>pslist:</b> This walks the doubly-linked list pointed to by PsActiveProcessHead and shows the offset, process name, process ID, the parent process ID, number of threads, number of handles, and date/time when the process started and exited. As of 2.1 it also shows the Session ID and if the process is a Wow64 process (it uses a 32 bit address space on a 64 bit kernel). This plugin does not detect hidden or unlinked processes (but psscan can do that).\n",
    "\n"
   ]
  },
  {
   "cell_type": "code",
   "execution_count": null,
   "metadata": {
    "scrolled": false
   },
   "outputs": [],
   "source": [
    "from IPython.display import Image\n",
    "!python $base_path/tools/volatility/vol.py -f $case_path/$filename --profile=$profile pslist -P $kdgb\n",
    "!python $base_path/tools/volatility/vol.py -f $case_path/$filename --profile=$profile pslist -P --output=dot --output-file=$dump_path/pslist.dot $kdgb\n",
    "!dot -Tpng $dump_path/pslist.dot -o $dump_path/pslist.png\n",
    "Image(dump_path + \"/pslist.png\")"
   ]
  },
  {
   "cell_type": "markdown",
   "metadata": {},
   "source": [
    "<b>psxview:</b> Find hidden processes with various process listings."
   ]
  },
  {
   "cell_type": "code",
   "execution_count": null,
   "metadata": {},
   "outputs": [],
   "source": [
    "!python $base_path/tools/volatility/vol.py -f $case_path/$filename --profile=$profile psxview -P $kdgb"
   ]
  },
  {
   "cell_type": "markdown",
   "metadata": {},
   "source": [
    "<b>envars:</b> Typically this will show the number of CPUs installed and the hardware architecture (though the kdbgscan output is a much more reliable source), the process's current directory, temporary directory, session name, computer name, user name, and various other interesting artifacts."
   ]
  },
  {
   "cell_type": "code",
   "execution_count": null,
   "metadata": {},
   "outputs": [],
   "source": [
    "!python $base_path/tools/volatility/vol.py -f $case_path/$filename --profile=$profile envars $kdgb"
   ]
  },
  {
   "cell_type": "markdown",
   "metadata": {},
   "source": [
    "<b>envars:</b> Find binaries loaded from temporary directories."
   ]
  },
  {
   "cell_type": "code",
   "execution_count": null,
   "metadata": {},
   "outputs": [],
   "source": [
    "!python $base_path/tools/volatility/vol.py -f $case_path/$filename --profile=$profile envars PID $kdgb | grep -i \"TEMP\\|\\|TMP\""
   ]
  },
  {
   "cell_type": "markdown",
   "metadata": {},
   "source": [
    "<b>vadtree:</b> The Virtual Address Descriptor tree is used by the Windowsmemory manager to describe memory ranges used by a process as they are allocated. When a process allocatesmemory with VirutalAlloc, the memory manager creates anentry in the VAD tree. The corresponding page directory andpage table entries are not created until the process tries to ref-erence that memory page, which can provide significantmemory savings for processes that allocate a large amountof memory but access it sparsely (Russinovich and Solomon,2004, pp. 448–449). The tree itself is a self-balancing binarytree: at any given node, memory addresses lower than thosecontained at the current node can be found in the left subtreeand higher ranges in the right.\n",
    "\n",
    "More information on the VAD:\n",
    "\n",
    "https://www.dfrws.org/sites/default/files/session-files/paper-the_vad_tree_-_a_process-eye_view_of_physical_memory.pdf\n",
    "\n",
    "Fillcolor Legend:\n",
    "\n",
    "    Red: Heaps\n",
    "    Gray: DLLs\n",
    "    Green: Stacks\n",
    "    Yellow: Mapped Files"
   ]
  },
  {
   "cell_type": "code",
   "execution_count": null,
   "metadata": {},
   "outputs": [],
   "source": [
    "from ipywidgets import widgets\n",
    "from IPython.display import Image,clear_output\n",
    "\n",
    "text = widgets.Text(description=\"ProcessID:\", width=200)\n",
    "display(text)\n",
    "\n",
    "def handle_submit(sender):\n",
    "    clear_output()\n",
    "    display(text)\n",
    "    processid=text.value\n",
    "    processidimage=processid + \".png\"\n",
    "    processiddot=processid + \".dot\"\n",
    "    !python $base_path/tools/volatility/vol.py -f $case_path/$filename --profile=$profile -p $processid vadtree --output=dot --output-file=$dump_path/$processiddot $kdgb\n",
    "    !dot -Tpng $dump_path/$processiddot -o $dump_path/$processidimage\n",
    "    display(Image(filename=dump_path +\"/\"+ processidimage))\n",
    "        \n",
    "text.on_submit(handle_submit)"
   ]
  },
  {
   "cell_type": "markdown",
   "metadata": {},
   "source": [
    "<a id='files_information'></a>\n",
    "### 8. Files Information\n",
    "[Top](#table_of_contents)"
   ]
  },
  {
   "cell_type": "markdown",
   "metadata": {},
   "source": [
    "<b>filescan:</b> To find FILE_OBJECTs in physical memory using pool tag scanning, use the filescan command. This will find open files even if a rootkit is hiding the files on disk and if the rootkit hooks some API functions to hide the open handles on a live system. The output shows the physical offset of the FILE_OBJECT, file name, number of pointers to the object, number of handles to the object, and the effective permissions granted to the object."
   ]
  },
  {
   "cell_type": "code",
   "execution_count": null,
   "metadata": {},
   "outputs": [],
   "source": [
    "!python $base_path/tools/volatility/vol.py -f $case_path/$filename --profile=$profile filescan $kdgb"
   ]
  },
  {
   "cell_type": "markdown",
   "metadata": {},
   "source": [
    "<a id='network_information'></a>\n",
    "### 9. Network Information\n",
    "[Top](#table_of_contents)"
   ]
  },
  {
   "cell_type": "markdown",
   "metadata": {},
   "source": [
    "<b>Network shares information:</b>"
   ]
  },
  {
   "cell_type": "code",
   "execution_count": null,
   "metadata": {},
   "outputs": [],
   "source": [
    "!python $base_path/tools/volatility/vol.py -f $case_path/$filename --profile=$profile handles -t File $kdgb | egrep \"\\\\Device\\\\(LanmanRedirector|Mup)\""
   ]
  },
  {
   "cell_type": "markdown",
   "metadata": {},
   "source": [
    "<b>sockscan:</b> To find \\_ADDRESS_OBJECT structures using pool tag scanning, use the sockscan command. As with connscan, this can pick up residual data and artifacts from previous sockets.\n",
    "\n",
    "This command is for x86 and x64 Windows XP and Windows 2003 Server only."
   ]
  },
  {
   "cell_type": "code",
   "execution_count": null,
   "metadata": {
    "scrolled": true
   },
   "outputs": [],
   "source": [
    "ips_list=[]\n",
    "\n",
    "sockscan=!python $base_path/tools/volatility/vol.py -f $case_path/$filename --profile=$profile sockscan $kdgb\n",
    "for row in sockscan[1:]:\n",
    "    print(row)\n",
    "    \n",
    "for row in sockscan[3:]:\n",
    "    row=row.split()\n",
    "    ips_list.append(row[5])"
   ]
  },
  {
   "cell_type": "markdown",
   "metadata": {},
   "source": [
    "<b>sockets:</b> To detect listening sockets for any protocol (TCP, UDP, RAW, etc), use the sockets command. This walks a singly-linked list of socket structures which is pointed to by a non-exported symbol in the tcpip.sys module.\n",
    "\n",
    "This command is for x86 and x64 Windows XP and Windows 2003 Server only."
   ]
  },
  {
   "cell_type": "code",
   "execution_count": null,
   "metadata": {},
   "outputs": [],
   "source": [
    "sockets=!python $base_path/tools/volatility/vol.py -f $case_path/$filename --profile=$profile sockets $kdgb\n",
    "for row in sockets[1:]:\n",
    "    print(row)\n",
    "\n",
    "for row in sockets[3:]:\n",
    "    row=row.split()\n",
    "    ips_list.append(row[5])"
   ]
  },
  {
   "cell_type": "markdown",
   "metadata": {},
   "source": [
    "<b>connections:</b> To view TCP connections that were active at the time of the memory acquisition, use the connections command. This walks the singly-linked list of connection structures pointed to by a non-exported symbol in the tcpip.sys module.\n",
    "\n",
    "This command is for x86 and x64 Windows XP and Windows 2003 Server only."
   ]
  },
  {
   "cell_type": "code",
   "execution_count": null,
   "metadata": {},
   "outputs": [],
   "source": [
    "connections=!python $base_path/tools/volatility/vol.py -f $case_path/$filename --profile=$profile connections $kdgb\n",
    "\n",
    "for row in connections[1:]:\n",
    "    print(row)\n",
    "    \n",
    "for row in connections[3:]:\n",
    "    row=row.split()\n",
    "    ip_port=row[2]\n",
    "    ip_port=ip_port.split(':')\n",
    "    ips_list.append(ip_port[0])"
   ]
  },
  {
   "cell_type": "markdown",
   "metadata": {},
   "source": [
    "<b>connscan:</b> To find \\_TCPT_OBJECT structures using pool tag scanning, use the connscan command. This can find artifacts from previous connections that have since been terminated, in addition to the active ones. In the output below, you'll notice some fields have been partially overwritten, but some of the information is still accurate. For example, the very last entry's Pid field is 0, but all other fields are still in tact. Thus, while it may find false positives sometimes, you also get the benefit of detecting as much information as possible.\n",
    "\n",
    "This command is for x86 and x64 Windows XP and Windows 2003 Server only."
   ]
  },
  {
   "cell_type": "code",
   "execution_count": null,
   "metadata": {},
   "outputs": [],
   "source": [
    "connscan=!python $base_path/tools/volatility/vol.py -f $case_path/$filename --profile=$profile connscan $kdgb\n",
    "\n",
    "for row in connscan[1:]:\n",
    "    print(row)\n",
    "    \n",
    "for row in connscan[3:]:\n",
    "    row=row.split()\n",
    "    ip_port=row[2]\n",
    "    ip_port=ip_port.split(':')\n",
    "    ips_list.append(ip_port[0])"
   ]
  },
  {
   "cell_type": "markdown",
   "metadata": {},
   "source": [
    "<b>netscan:</b> To scan for network artifacts in 32- and 64-bit Windows Vista, Windows 2008 Server and Windows 7 memory dumps, use the netscan command. This finds TCP endpoints, TCP listeners, UDP endpoints, and UDP listeners. It distinguishes between IPv4 and IPv6, prints the local and remote IP (if applicable), the local and remote port (if applicable), the time when the socket was bound or when the connection was established, and the current state (for TCP connections only). "
   ]
  },
  {
   "cell_type": "code",
   "execution_count": null,
   "metadata": {
    "scrolled": false
   },
   "outputs": [],
   "source": [
    "netscan=!python $base_path/tools/volatility/vol.py -f $case_path/$filename --profile=$profile netscan $kdgb\n",
    "for row in netscan[1:]:\n",
    "    print(row)\n",
    "    \n",
    "for row in netscan[3:]:\n",
    "    row=row.split()\n",
    "    ip_port=row[2]\n",
    "    ip_port=ip_port.split(':')\n",
    "    ips_list.append(ip_port[0])"
   ]
  },
  {
   "cell_type": "markdown",
   "metadata": {},
   "source": [
    "<b>NDISPktScan:</b> An Ethernet packet, or, depending on the version of Windows, the start of an Ethernet packet, can be found by searching kernel memory space for a source MAC address followed by an EtherType of IPv4 or IPv6. As long as the source MAC address is known, the packets can be found and recovered.\n",
    "\n",
    "Ideally, the source MAC address will be passed to the plugin via the --mac switch."
   ]
  },
  {
   "cell_type": "code",
   "execution_count": null,
   "metadata": {},
   "outputs": [],
   "source": [
    "mac=\"00:0C:29:47:7A:A1\"\n",
    "!python $base_path/tools/volatility/vol.py --plugins=$plugins_path/AdamBridge -f $case_path/$filename --profile=$profile ndispktscan $kdgb --mac=$mac  --pcap $dump_path/packets2.pcap --dsts $dump_path/ips2.txt\n",
    "ips2=!cat $dump_path/ips2.txt\n",
    "#modificar\n",
    "if \"file\" in ips2:\n",
    "    print(\"Nothing found.\")\n",
    "else:\n",
    "    for ip in ips2:\n",
    "        ips_list.append(ip)"
   ]
  },
  {
   "cell_type": "markdown",
   "metadata": {},
   "source": [
    "<a id='windows_events'></a>\n",
    "### 10. Windows Event Logs Extraction\n",
    "[Top](#table_of_contents)"
   ]
  },
  {
   "cell_type": "markdown",
   "metadata": {},
   "source": [
    "<b>evtlogs:</b> Extract Windows Event Logs (XP/2003 only)."
   ]
  },
  {
   "cell_type": "code",
   "execution_count": null,
   "metadata": {},
   "outputs": [],
   "source": [
    "!python $base_path/tools/volatility/vol.py -f $case_path/$filename --profile=$profile evtlogs --dump-dir=$dump_path $kdgb"
   ]
  },
  {
   "cell_type": "markdown",
   "metadata": {},
   "source": [
    "<b>evtxtract:</b> Extract Windows Event Logs (Vista/7/8/10 only)."
   ]
  },
  {
   "cell_type": "code",
   "execution_count": null,
   "metadata": {},
   "outputs": [],
   "source": [
    "!evtxtract $case_path/$filename"
   ]
  },
  {
   "cell_type": "markdown",
   "metadata": {},
   "source": [
    "<a id='malicious_code'></a>\n",
    "### 11. Malicious Code Investigation\n",
    "[Top](#table_of_contents)"
   ]
  },
  {
   "cell_type": "markdown",
   "metadata": {},
   "source": [
    "<b>yarascan</b>"
   ]
  },
  {
   "cell_type": "code",
   "execution_count": null,
   "metadata": {},
   "outputs": [],
   "source": [
    "#!python $base_path/tools/volatility/vol.py -f $case_path/$filename --profile=$profile yarascan"
   ]
  },
  {
   "cell_type": "markdown",
   "metadata": {},
   "source": [
    "<b>malfind:</b> The malfind command helps find hidden or injected code/DLLs in user mode memory, based on characteristics such as VAD tag and page permissions."
   ]
  },
  {
   "cell_type": "code",
   "execution_count": null,
   "metadata": {
    "scrolled": false
   },
   "outputs": [],
   "source": [
    "!python $base_path/tools/volatility/vol.py -f $case_path/$filename --profile=$profile malfind $kdgb"
   ]
  },
  {
   "cell_type": "markdown",
   "metadata": {},
   "source": [
    "<b>ldrmodules:</b> There are many ways to hide a DLL. One of the ways involves unlinking the DLL from one (or all) of the linked lists in the PEB. However, when this is done, there is still information contained within the VAD (Virtual Address Descriptor) which identifies the base address of the DLL and its full path on disk. To cross-reference this information (known as memory mapped files) with the 3 PEB lists, use the ldrmodules command.\n",
    "\n",
    "For each memory mapped PE file, the ldrmodules command prints True or False if the PE exists in the PEB lists. \n",
    "\n",
    "Since the PEB and the DLL lists that it contains all exist in user mode, its also possible for malware to hide (or obscure) a DLL by simply overwriting the path. Tools that only look for unlinked entries may miss the fact that malware could overwrite C:\\bad.dll to show C:\\windows\\system32\\kernel32.dll. So you can also pass -v or --verbose to ldrmodules to see the full path of all entries.\n",
    "\n",
    "For concrete examples, see http://blogs.mcafee.com/mcafee-labs/zeroaccess-misleads-memory-file-link ZeroAccess Misleads Memory-File Link and QuickPost: Flame & Volatility."
   ]
  },
  {
   "cell_type": "code",
   "execution_count": null,
   "metadata": {},
   "outputs": [],
   "source": [
    "!python $base_path/tools/volatility/vol.py -f $case_path/$filename --profile=$profile ldrmodules $kdgb"
   ]
  },
  {
   "cell_type": "markdown",
   "metadata": {},
   "source": [
    "Cobalt strike\n",
    "https://github.com/RomanEmelyanov/CobaltStrikeForensic\n",
    "\n",
    "https://blogs.jpcert.or.jp/en/2018/08/volatility-plugin-for-detecting-cobalt-strike-beacon.html"
   ]
  },
  {
   "cell_type": "markdown",
   "metadata": {},
   "source": [
    "<a id='advanced_extract_files'></a>\n",
    "### 12. Advanced Investigation - Extracting Files\n",
    "[Top](#table_of_contents)"
   ]
  },
  {
   "cell_type": "markdown",
   "metadata": {},
   "source": [
    "<b>dumpfiles</b>"
   ]
  },
  {
   "cell_type": "code",
   "execution_count": null,
   "metadata": {
    "scrolled": true
   },
   "outputs": [],
   "source": [
    "!python $base_path/tools/volatility/vol.py -f $case_path/$filename --profile=$profile --dump-dir=$dump_path dumpfiles $kdgb"
   ]
  },
  {
   "cell_type": "markdown",
   "metadata": {},
   "source": [
    "<b>bulk_extractor:</b>"
   ]
  },
  {
   "cell_type": "code",
   "execution_count": null,
   "metadata": {},
   "outputs": [],
   "source": [
    "!bulk_extractor -o /home/mmatari/Notebooks/investigation_files/ $case_path/$filename\n",
    "ips_list = []\n",
    "#ips\n",
    "ips=[]\n",
    "ips=!cat $dump_path/ip_histogram.txt\n",
    "for ip in ips[5:]:\n",
    "    ip=ip.split('\\t')\n",
    "    ips_list.append(ip[1])\n",
    "ips_list=set(ips_list)\n",
    "ips_list=list(ips_list)\n",
    "print(ips_list)\n",
    "print()\n",
    "#urls\n",
    "urls=[]\n",
    "urls_list=[]\n",
    "urls=!cat $dump_path/url_histogram.txt\n",
    "for url in urls[5:]:\n",
    "    url=url.split('\\t')\n",
    "    urls_list.append(url[1])\n",
    "urls_list=set(urls_list)\n",
    "urls_list=list(urls_list)\n",
    "print(urls_list)\n",
    "print()\n",
    "#packet_pcap\n",
    "pcap_file=!echo $dump_path\"/packets.pcap\"\n",
    "print(pcap_file)"
   ]
  },
  {
   "cell_type": "markdown",
   "metadata": {},
   "source": [
    "<b>dump file by offset</b>"
   ]
  },
  {
   "cell_type": "code",
   "execution_count": null,
   "metadata": {},
   "outputs": [],
   "source": [
    "from ipywidgets import widgets\n",
    "from IPython.display import clear_output\n",
    "\n",
    "offset = widgets.Text(description=\"Offset:\", width=200)\n",
    "display(offset)\n",
    "def handle_submit(sender):\n",
    "    clear_output()\n",
    "    display(strings)\n",
    "    !python $base_path/tools/volatility/vol.py -f $case_path/$filename --profile=$profile --offset=$offset.value --dump-dir=$dump_path dumpfiles \n",
    "offset.on_submit(handle_submit)"
   ]
  },
  {
   "cell_type": "markdown",
   "metadata": {},
   "source": [
    "<b>memdump</b>"
   ]
  },
  {
   "cell_type": "code",
   "execution_count": null,
   "metadata": {
    "scrolled": false
   },
   "outputs": [],
   "source": [
    "!python $base_path/tools/volatility/vol.py -f $case_path/$filename --profile=$profile --dump-dir=$dump_path memdump $kdgb"
   ]
  },
  {
   "cell_type": "markdown",
   "metadata": {},
   "source": [
    "<b>procdump</b>"
   ]
  },
  {
   "cell_type": "code",
   "execution_count": null,
   "metadata": {},
   "outputs": [],
   "source": [
    "!python $base_path/tools/volatility/vol.py -f $case_path/$filename --profile=$profile --dump-dir=$dump_path procdump $kdgb"
   ]
  },
  {
   "cell_type": "markdown",
   "metadata": {},
   "source": [
    "<b>dlldump</b>"
   ]
  },
  {
   "cell_type": "code",
   "execution_count": null,
   "metadata": {},
   "outputs": [],
   "source": [
    "!python $base_path/tools/volatility/vol.py -f $case_path/$filename --profile=$profile --dump-dir=$dump_path dlldump $kdgb"
   ]
  },
  {
   "cell_type": "markdown",
   "metadata": {},
   "source": [
    "<a id='advanced_search_strings'></a>\n",
    "### 13. Advanced Investigation - Searching Strings\n",
    "[Top](#table_of_contents)"
   ]
  },
  {
   "cell_type": "markdown",
   "metadata": {},
   "source": [
    "<b>Search strings:</b>"
   ]
  },
  {
   "cell_type": "code",
   "execution_count": null,
   "metadata": {
    "scrolled": true
   },
   "outputs": [],
   "source": [
    "from ipywidgets import widgets\n",
    "from IPython.display import clear_output\n",
    "\n",
    "strings = widgets.Text(description=\"Search:\", width=200)\n",
    "display(strings)\n",
    "def handle_submit(sender):\n",
    "    test=!egrep -ai $strings.value $case_path/$filename\n",
    "    clear_output()\n",
    "    display(strings)\n",
    "    for line in test:\n",
    "        print(line)\n",
    "strings.on_submit(handle_submit)"
   ]
  },
  {
   "cell_type": "markdown",
   "metadata": {},
   "source": [
    "<a id='iocs_list'></a>\n",
    "### 14. IOCs List\n",
    "[Top](#table_of_contents)"
   ]
  },
  {
   "cell_type": "markdown",
   "metadata": {},
   "source": [
    "Use this information with the rest of the notebooks in order to investigate it."
   ]
  },
  {
   "cell_type": "code",
   "execution_count": null,
   "metadata": {
    "scrolled": false
   },
   "outputs": [],
   "source": [
    "print(\"IP list:\")\n",
    "print(ips_list)\n",
    "print(\"URL list:\")\n",
    "print(urls_list)\n",
    "print(\"Files folder:\")\n",
    "print(dump_path)\n",
    "print(\"MD5 hashes list:\")\n",
    "print(\"[TBD]\")\n",
    "pcaps_list=[]\n",
    "pcapfiles=!ls $dump_path | grep pcap\n",
    "print(\"Pcap files:\")\n",
    "for pcap in pcapfiles:\n",
    "    pcaps_list.append(dump_path+pcap)\n",
    "print(pcaps_list)"
   ]
  },
  {
   "cell_type": "code",
   "execution_count": null,
   "metadata": {},
   "outputs": [],
   "source": []
  }
 ],
 "metadata": {
  "kernelspec": {
   "display_name": "Python 3",
   "language": "python",
   "name": "python3"
  },
  "language_info": {
   "codemirror_mode": {
    "name": "ipython",
    "version": 3
   },
   "file_extension": ".py",
   "mimetype": "text/x-python",
   "name": "python",
   "nbconvert_exporter": "python",
   "pygments_lexer": "ipython3",
   "version": "3.8.10"
  }
 },
 "nbformat": 4,
 "nbformat_minor": 2
}
